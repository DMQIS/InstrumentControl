{
 "cells": [
  {
   "cell_type": "code",
   "execution_count": 1,
   "metadata": {},
   "outputs": [],
   "source": [
    "import numpy as np\n",
    "import matplotlib.pyplot as plt\n",
    "import datetime\n",
    "\n",
    "import new_VNAfunctions as ctrl\n",
    "import new_VNAmeas as meas"
   ]
  },
  {
   "cell_type": "markdown",
   "metadata": {},
   "source": [
    "## Setup"
   ]
  },
  {
   "cell_type": "code",
   "execution_count": 2,
   "metadata": {},
   "outputs": [
    {
     "name": "stdout",
     "output_type": "stream",
     "text": [
      "Data will be saved to: C:\\_Data\\2024-01-09\\SQUAT\n"
     ]
    }
   ],
   "source": [
    "## Basic system information\n",
    "warm_att = 0              ## [dB]\n",
    "cold_att = 90             ## [dB]\n",
    "device = \"Nb230628-2\"     ## [str] Device identifier\n",
    "s_parameter = \"S43\"       ## [str] Scattering parameter to measure\n",
    "\n",
    "today = datetime.date.today()\n",
    "expt_path = 'C:\\_Data' + '\\\\' + str(today)  + '\\\\SQUAT'\n",
    "print(\"Data will be saved to: \" + expt_path)"
   ]
  },
  {
   "cell_type": "code",
   "execution_count": 3,
   "metadata": {},
   "outputs": [],
   "source": [
    "## Measurement setup\n",
    "avgs  = 1      ## [int] number of averages\n",
    "f_min = 5e9      ## [Hz]  start frequency\n",
    "f_max = 7e9      ## [Hz]  stop frequency\n",
    "n_pts = 20000    ## [int] number of points\n",
    "ifbw  = 500      ## [Hz]  IF bandwidth\n",
    "power = 0      ## [dBm] vna output power"
   ]
  },
  {
   "cell_type": "markdown",
   "metadata": {},
   "source": [
    "## Measurment"
   ]
  },
  {
   "cell_type": "code",
   "execution_count": 4,
   "metadata": {},
   "outputs": [
    {
     "name": "stdout",
     "output_type": "stream",
     "text": [
      "SOURce:POWer 0\n",
      "Starting frequency sweep and waiting for complete. . .\n",
      "Done. . .  (b'1\\n')\n"
     ]
    }
   ],
   "source": [
    "## Run Acquisition\n",
    "dateStr   = str(datetime.datetime.now().strftime('%Y%m%d')) #sweep date\n",
    "series     = str(datetime.datetime.now().strftime('%Y%m%d_%H%M%S'))\n",
    "\n",
    "\n",
    "## Set up object to store data\n",
    "sweep = meas.VNAMeas(series)\n",
    "sweep.device  = device\n",
    "sweep.n_avgs  = avgs\n",
    "sweep.n_samps = n_pts\n",
    "sweep.f_min   = f_min\n",
    "sweep.f_max   = f_max\n",
    "sweep.vna_power    = power\n",
    "sweep.device_power = power - warm_att - cold_att\n",
    "\n",
    "\n",
    "## Do the measurement\n",
    "v = ctrl.VNA()\n",
    "v.setPower(power)\n",
    "f, I, Q = v.takeSweep(f_min=f_min, f_max=f_max, n_step=n_pts, \n",
    "                      n_avs=avgs, ifb=ifbw, s_parameter=s_parameter)\n",
    "amp, phase = sweep.store_data(f, I, Q)\n",
    "fp, fn = sweep.save_hdf5(expt_path)"
   ]
  },
  {
   "cell_type": "markdown",
   "metadata": {},
   "source": [
    "# Readin"
   ]
  },
  {
   "cell_type": "code",
   "execution_count": 7,
   "metadata": {},
   "outputs": [],
   "source": [
    "infile = meas.read_hdf5(fp, fn)\n",
    "infile.show()"
   ]
  },
  {
   "cell_type": "code",
   "execution_count": null,
   "metadata": {},
   "outputs": [],
   "source": []
  }
 ],
 "metadata": {
  "kernelspec": {
   "display_name": "slab_qcodes",
   "language": "python",
   "name": "python3"
  },
  "language_info": {
   "codemirror_mode": {
    "name": "ipython",
    "version": 3
   },
   "file_extension": ".py",
   "mimetype": "text/x-python",
   "name": "python",
   "nbconvert_exporter": "python",
   "pygments_lexer": "ipython3",
   "version": "3.10.9"
  }
 },
 "nbformat": 4,
 "nbformat_minor": 2
}
