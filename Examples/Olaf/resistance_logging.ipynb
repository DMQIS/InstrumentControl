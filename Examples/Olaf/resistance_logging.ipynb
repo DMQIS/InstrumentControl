{
 "cells": [
  {
   "cell_type": "code",
   "execution_count": 6,
   "id": "f80b4d21",
   "metadata": {},
   "outputs": [],
   "source": [
    "import numpy as np\n",
    "import csv\n",
    "from pylab import *\n",
    "import sys\n",
    "from time import sleep\n",
    "import datetime\n",
    "import pandas as pd\n",
    "sys.path.append(\"../../Devices\")\n",
    "import os\n",
    "\n",
    "from Lakeshore372 import LS372"
   ]
  },
  {
   "cell_type": "code",
   "execution_count": 2,
   "id": "66bdad4a",
   "metadata": {},
   "outputs": [],
   "source": [
    "#Connect to resistance bridge\n",
    "ls = LS372('192.168.1.144')\n",
    "# give it ~15 sec"
   ]
  },
  {
   "cell_type": "code",
   "execution_count": 3,
   "id": "f15bc0a9",
   "metadata": {},
   "outputs": [],
   "source": [
    "#Utility function to spit out channel settings\n",
    "def getChannelSettings(minChan,maxChan):\n",
    "    info = []\n",
    "    t = time.time()\n",
    "    for i in range(minChan, maxChan+1):\n",
    "        chan = ls.channels[i]\n",
    "        info.append([t, i,\n",
    "                chan.enabled,\n",
    "                chan.get_resistance_reading(),\n",
    "                chan.get_excitation_power()])\n",
    "    return info"
   ]
  },
  {
   "cell_type": "code",
   "execution_count": 4,
   "id": "04387638",
   "metadata": {},
   "outputs": [],
   "source": [
    "date = str(datetime.datetime.now().date()).replace('-', '')\n",
    "csv_path = f'{date}_lakeshore.csv'"
   ]
  },
  {
   "cell_type": "code",
   "execution_count": null,
   "id": "a0ea5f32",
   "metadata": {},
   "outputs": [],
   "source": [
    "if not os.path.isfile(csv_path):\n",
    "    df = pd.DataFrame(columns=['Time', 'Channel', 'Enabled', 'Resistance', 'Power'])\n",
    "    df.to_csv(csv_path, header=True, index=False)\n",
    "\n",
    "while True: \n",
    "    data = getChannelSettings(1,16)\n",
    "    with open(csv_path, 'a', newline='') as csvfile:\n",
    "        writer = csv.writer(csvfile, delimiter=' ', quotechar='|', quoting=csv.QUOTE_MINIMAL)\n",
    "        for j in data:\n",
    "            writer.writerow(j)\n",
    "        csvfile.close()\n",
    "        \n",
    "    sleep(60)"
   ]
  },
  {
   "cell_type": "code",
   "execution_count": null,
   "id": "67b226dc",
   "metadata": {},
   "outputs": [],
   "source": []
  }
 ],
 "metadata": {
  "kernelspec": {
   "display_name": "Python 3 (ipykernel)",
   "language": "python",
   "name": "python3"
  },
  "language_info": {
   "codemirror_mode": {
    "name": "ipython",
    "version": 3
   },
   "file_extension": ".py",
   "mimetype": "text/x-python",
   "name": "python",
   "nbconvert_exporter": "python",
   "pygments_lexer": "ipython3",
   "version": "3.11.5"
  }
 },
 "nbformat": 4,
 "nbformat_minor": 5
}
